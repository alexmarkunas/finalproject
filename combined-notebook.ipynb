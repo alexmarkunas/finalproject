{
 "cells": [
  {
   "cell_type": "markdown",
   "metadata": {},
   "source": [
    "## Introduction\n",
    "\n",
    "Our overall metric was essnetial liveability. This was determined with three indivdual metrics of supermarket availability, walkability score, and access to community gardens, as these metrics provide for basic standards of living: access to food and mobility. We analyzed these three datasets to determien the overall neighborhood as determined by liveability."
   ]
  },
  {
   "cell_type": "markdown",
   "metadata": {},
   "source": [
    "### Supermarkets\n",
    "\n",
    "This metric determines the number of supermarkets per neighborhood, with higher levels having greater preference as more access to food is an advantage when determining which neighborhood to live in."
   ]
  },
  {
   "cell_type": "code",
   "execution_count": 1,
   "metadata": {},
   "outputs": [],
   "source": [
    "import pandas as pd\n",
    "import numpy as np \n",
    "import geopandas"
   ]
  },
  {
   "cell_type": "code",
   "execution_count": 2,
   "metadata": {},
   "outputs": [
    {
     "data": {
      "text/html": [
       "<div>\n",
       "<style scoped>\n",
       "    .dataframe tbody tr th:only-of-type {\n",
       "        vertical-align: middle;\n",
       "    }\n",
       "\n",
       "    .dataframe tbody tr th {\n",
       "        vertical-align: top;\n",
       "    }\n",
       "\n",
       "    .dataframe thead th {\n",
       "        text-align: right;\n",
       "    }\n",
       "</style>\n",
       "<table border=\"1\" class=\"dataframe\">\n",
       "  <thead>\n",
       "    <tr style=\"text-align: right;\">\n",
       "      <th></th>\n",
       "      <th>Name</th>\n",
       "      <th>Legal Name</th>\n",
       "      <th>Start Date</th>\n",
       "      <th>Street #</th>\n",
       "      <th>Street Name</th>\n",
       "      <th>State</th>\n",
       "      <th>Zip</th>\n",
       "      <th>Lat</th>\n",
       "      <th>Lon</th>\n",
       "      <th>Accuracy</th>\n",
       "      <th>Category</th>\n",
       "    </tr>\n",
       "    <tr>\n",
       "      <th>Client ID</th>\n",
       "      <th></th>\n",
       "      <th></th>\n",
       "      <th></th>\n",
       "      <th></th>\n",
       "      <th></th>\n",
       "      <th></th>\n",
       "      <th></th>\n",
       "      <th></th>\n",
       "      <th></th>\n",
       "      <th></th>\n",
       "      <th></th>\n",
       "    </tr>\n",
       "  </thead>\n",
       "  <tbody>\n",
       "    <tr>\n",
       "      <th>200808260002</th>\n",
       "      <td>Frick Park Market</td>\n",
       "      <td>Frick Park Market LLC</td>\n",
       "      <td>8/11/2008</td>\n",
       "      <td>7103</td>\n",
       "      <td>Reynolds St</td>\n",
       "      <td>PA</td>\n",
       "      <td>15208.0</td>\n",
       "      <td>40.447214</td>\n",
       "      <td>-79.905123</td>\n",
       "      <td>9.0</td>\n",
       "      <td>Convenience Store</td>\n",
       "    </tr>\n",
       "  </tbody>\n",
       "</table>\n",
       "</div>"
      ],
      "text/plain": [
       "                           Name             Legal Name Start Date Street #  \\\n",
       "Client ID                                                                    \n",
       "200808260002  Frick Park Market  Frick Park Market LLC  8/11/2008     7103   \n",
       "\n",
       "              Street Name State      Zip        Lat        Lon  Accuracy  \\\n",
       "Client ID                                                                  \n",
       "200808260002  Reynolds St    PA  15208.0  40.447214 -79.905123       9.0   \n",
       "\n",
       "                       Category  \n",
       "Client ID                        \n",
       "200808260002  Convenience Store  "
      ]
     },
     "execution_count": 2,
     "metadata": {},
     "output_type": "execute_result"
    }
   ],
   "source": [
    "supermarket = pd.read_csv(\"https://data.wprdc.org/datastore/dump/626357fa-c95d-465f-9a02-3121655b2b78\", \n",
    "                          index_col = \"Client ID\",\n",
    "                          parse_dates = True) \n",
    "supermarket.sample()"
   ]
  },
  {
   "cell_type": "markdown",
   "metadata": {},
   "source": [
    "We used a query mask to separate \"supermarkets\" from \"convenience stores\" as conveince stores typically provide snacks and limited actual food products with low access to necessities for cooking and nutrition."
   ]
  },
  {
   "cell_type": "code",
   "execution_count": 3,
   "metadata": {},
   "outputs": [
    {
     "data": {
      "text/html": [
       "<div>\n",
       "<style scoped>\n",
       "    .dataframe tbody tr th:only-of-type {\n",
       "        vertical-align: middle;\n",
       "    }\n",
       "\n",
       "    .dataframe tbody tr th {\n",
       "        vertical-align: top;\n",
       "    }\n",
       "\n",
       "    .dataframe thead th {\n",
       "        text-align: right;\n",
       "    }\n",
       "</style>\n",
       "<table border=\"1\" class=\"dataframe\">\n",
       "  <thead>\n",
       "    <tr style=\"text-align: right;\">\n",
       "      <th></th>\n",
       "      <th>Name</th>\n",
       "      <th>Legal Name</th>\n",
       "      <th>Start Date</th>\n",
       "      <th>Street #</th>\n",
       "      <th>Street Name</th>\n",
       "      <th>State</th>\n",
       "      <th>Zip</th>\n",
       "      <th>Lat</th>\n",
       "      <th>Lon</th>\n",
       "      <th>Accuracy</th>\n",
       "      <th>Category</th>\n",
       "    </tr>\n",
       "    <tr>\n",
       "      <th>Client ID</th>\n",
       "      <th></th>\n",
       "      <th></th>\n",
       "      <th></th>\n",
       "      <th></th>\n",
       "      <th></th>\n",
       "      <th></th>\n",
       "      <th></th>\n",
       "      <th></th>\n",
       "      <th></th>\n",
       "      <th></th>\n",
       "      <th></th>\n",
       "    </tr>\n",
       "  </thead>\n",
       "  <tbody>\n",
       "    <tr>\n",
       "      <th>Client ID</th>\n",
       "      <td>Aldi #92</td>\n",
       "      <td>Aldi Inc</td>\n",
       "      <td>8/18/2015</td>\n",
       "      <td>5239</td>\n",
       "      <td>Brownsville Rd</td>\n",
       "      <td>PA</td>\n",
       "      <td>15236.0</td>\n",
       "      <td>40.342387</td>\n",
       "      <td>-79.984112</td>\n",
       "      <td>9.0</td>\n",
       "      <td>Supermarket</td>\n",
       "    </tr>\n",
       "    <tr>\n",
       "      <th>201508270013</th>\n",
       "      <td>Aldi</td>\n",
       "      <td>Aldi Inc</td>\n",
       "      <td>9/22/2015</td>\n",
       "      <td>7350</td>\n",
       "      <td>Saltsburg Rd</td>\n",
       "      <td>PA</td>\n",
       "      <td>15235.0</td>\n",
       "      <td>40.477243</td>\n",
       "      <td>-79.785988</td>\n",
       "      <td>9.0</td>\n",
       "      <td>Supermarket</td>\n",
       "    </tr>\n",
       "    <tr>\n",
       "      <th>201509280005</th>\n",
       "      <td>Aldi #56</td>\n",
       "      <td>Aldi Inc</td>\n",
       "      <td>7/17/2006</td>\n",
       "      <td>2348</td>\n",
       "      <td>Ardmore Blvd</td>\n",
       "      <td>PA</td>\n",
       "      <td>15221.0</td>\n",
       "      <td>40.415887</td>\n",
       "      <td>-79.848706</td>\n",
       "      <td>9.0</td>\n",
       "      <td>Supermarket</td>\n",
       "    </tr>\n",
       "    <tr>\n",
       "      <th>200607310002</th>\n",
       "      <td>Aldi #68</td>\n",
       "      <td>Aldi Inc</td>\n",
       "      <td>7/16/2010</td>\n",
       "      <td>4578</td>\n",
       "      <td>Wm Flynn Hi</td>\n",
       "      <td>PA</td>\n",
       "      <td>15101.0</td>\n",
       "      <td>40.571191</td>\n",
       "      <td>-79.952845</td>\n",
       "      <td>3.0</td>\n",
       "      <td>Supermarket</td>\n",
       "    </tr>\n",
       "    <tr>\n",
       "      <th>201007230007</th>\n",
       "      <td>Aldi #72</td>\n",
       "      <td>Aldi Inc</td>\n",
       "      <td>11/18/2010</td>\n",
       "      <td>3089</td>\n",
       "      <td>Sussex Av</td>\n",
       "      <td>PA</td>\n",
       "      <td>15226.0</td>\n",
       "      <td>40.383771</td>\n",
       "      <td>-80.014178</td>\n",
       "      <td>9.0</td>\n",
       "      <td>Supermarket</td>\n",
       "    </tr>\n",
       "  </tbody>\n",
       "</table>\n",
       "</div>"
      ],
      "text/plain": [
       "                  Name Legal Name  Start Date Street #     Street Name State  \\\n",
       "Client ID                                                                      \n",
       "Client ID     Aldi #92   Aldi Inc   8/18/2015     5239  Brownsville Rd    PA   \n",
       "201508270013      Aldi   Aldi Inc   9/22/2015     7350    Saltsburg Rd    PA   \n",
       "201509280005  Aldi #56   Aldi Inc   7/17/2006     2348    Ardmore Blvd    PA   \n",
       "200607310002  Aldi #68   Aldi Inc   7/16/2010     4578     Wm Flynn Hi    PA   \n",
       "201007230007  Aldi #72   Aldi Inc  11/18/2010     3089       Sussex Av    PA   \n",
       "\n",
       "                  Zip        Lat        Lon  Accuracy     Category  \n",
       "Client ID                                                           \n",
       "Client ID     15236.0  40.342387 -79.984112       9.0  Supermarket  \n",
       "201508270013  15235.0  40.477243 -79.785988       9.0  Supermarket  \n",
       "201509280005  15221.0  40.415887 -79.848706       9.0  Supermarket  \n",
       "200607310002  15101.0  40.571191 -79.952845       3.0  Supermarket  \n",
       "201007230007  15226.0  40.383771 -80.014178       9.0  Supermarket  "
      ]
     },
     "execution_count": 3,
     "metadata": {},
     "output_type": "execute_result"
    }
   ],
   "source": [
    "query_mask = supermarket[\"Category\"] == \"Supermarket\"\n",
    "only_supermarket = supermarket[query_mask]\n",
    "only_supermarket.head()"
   ]
  },
  {
   "cell_type": "markdown",
   "metadata": {},
   "source": [
    "We used the neighborhood dataset to use sort the given coordinates into neighborhood names."
   ]
  },
  {
   "cell_type": "code",
   "execution_count": 4,
   "metadata": {},
   "outputs": [
    {
     "data": {
      "text/html": [
       "<div>\n",
       "<style scoped>\n",
       "    .dataframe tbody tr th:only-of-type {\n",
       "        vertical-align: middle;\n",
       "    }\n",
       "\n",
       "    .dataframe tbody tr th {\n",
       "        vertical-align: top;\n",
       "    }\n",
       "\n",
       "    .dataframe thead th {\n",
       "        text-align: right;\n",
       "    }\n",
       "</style>\n",
       "<table border=\"1\" class=\"dataframe\">\n",
       "  <thead>\n",
       "    <tr style=\"text-align: right;\">\n",
       "      <th></th>\n",
       "      <th>objectid</th>\n",
       "      <th>fid_blockg</th>\n",
       "      <th>statefp10</th>\n",
       "      <th>countyfp10</th>\n",
       "      <th>tractce10</th>\n",
       "      <th>blkgrpce10</th>\n",
       "      <th>geoid10</th>\n",
       "      <th>namelsad10</th>\n",
       "      <th>mtfcc10</th>\n",
       "      <th>funcstat10</th>\n",
       "      <th>...</th>\n",
       "      <th>shape_ar_1</th>\n",
       "      <th>page_numbe</th>\n",
       "      <th>plannerass</th>\n",
       "      <th>created_us</th>\n",
       "      <th>created_da</th>\n",
       "      <th>last_edite</th>\n",
       "      <th>last_edi_1</th>\n",
       "      <th>Shape__Are</th>\n",
       "      <th>Shape__Len</th>\n",
       "      <th>geometry</th>\n",
       "    </tr>\n",
       "  </thead>\n",
       "  <tbody>\n",
       "    <tr>\n",
       "      <th>0</th>\n",
       "      <td>1</td>\n",
       "      <td>0.0</td>\n",
       "      <td>42</td>\n",
       "      <td>003</td>\n",
       "      <td>040500</td>\n",
       "      <td>1</td>\n",
       "      <td>420030405001</td>\n",
       "      <td>Block Group 1</td>\n",
       "      <td>G5030</td>\n",
       "      <td>S</td>\n",
       "      <td>...</td>\n",
       "      <td>7.843108e+06</td>\n",
       "      <td>15</td>\n",
       "      <td>Derek Dauphin</td>\n",
       "      <td>pgh.admin</td>\n",
       "      <td>2019-10-23T14:17:16.403Z</td>\n",
       "      <td>pgh.admin</td>\n",
       "      <td>2019-10-23T14:17:16.403Z</td>\n",
       "      <td>7.842997e+06</td>\n",
       "      <td>11525.904546</td>\n",
       "      <td>POLYGON ((-79.95304 40.44203, -79.95302 40.442...</td>\n",
       "    </tr>\n",
       "    <tr>\n",
       "      <th>1</th>\n",
       "      <td>2</td>\n",
       "      <td>1.0</td>\n",
       "      <td>42</td>\n",
       "      <td>003</td>\n",
       "      <td>040400</td>\n",
       "      <td>1</td>\n",
       "      <td>420030404001</td>\n",
       "      <td>Block Group 1</td>\n",
       "      <td>G5030</td>\n",
       "      <td>S</td>\n",
       "      <td>...</td>\n",
       "      <td>1.390463e+07</td>\n",
       "      <td>15</td>\n",
       "      <td>Derek Dauphin</td>\n",
       "      <td>pgh.admin</td>\n",
       "      <td>2019-10-23T14:17:16.403Z</td>\n",
       "      <td>pgh.admin</td>\n",
       "      <td>2019-10-23T14:17:16.403Z</td>\n",
       "      <td>1.390469e+07</td>\n",
       "      <td>20945.562570</td>\n",
       "      <td>POLYGON ((-79.95455 40.45882, -79.95427 40.458...</td>\n",
       "    </tr>\n",
       "    <tr>\n",
       "      <th>2</th>\n",
       "      <td>3</td>\n",
       "      <td>2.0</td>\n",
       "      <td>42</td>\n",
       "      <td>003</td>\n",
       "      <td>040200</td>\n",
       "      <td>2</td>\n",
       "      <td>420030402002</td>\n",
       "      <td>Block Group 2</td>\n",
       "      <td>G5030</td>\n",
       "      <td>S</td>\n",
       "      <td>...</td>\n",
       "      <td>5.999801e+06</td>\n",
       "      <td>15</td>\n",
       "      <td>Derek Dauphin</td>\n",
       "      <td>pgh.admin</td>\n",
       "      <td>2019-10-23T14:17:16.403Z</td>\n",
       "      <td>pgh.admin</td>\n",
       "      <td>2019-10-23T14:17:16.403Z</td>\n",
       "      <td>5.998649e+06</td>\n",
       "      <td>18280.484515</td>\n",
       "      <td>POLYGON ((-79.96230 40.44294, -79.96220 40.442...</td>\n",
       "    </tr>\n",
       "    <tr>\n",
       "      <th>3</th>\n",
       "      <td>4</td>\n",
       "      <td>3.0</td>\n",
       "      <td>42</td>\n",
       "      <td>003</td>\n",
       "      <td>030500</td>\n",
       "      <td>2</td>\n",
       "      <td>420030305002</td>\n",
       "      <td>Block Group 2</td>\n",
       "      <td>G5030</td>\n",
       "      <td>S</td>\n",
       "      <td>...</td>\n",
       "      <td>7.202139e+06</td>\n",
       "      <td>15</td>\n",
       "      <td>Derek Dauphin</td>\n",
       "      <td>pgh.admin</td>\n",
       "      <td>2019-10-23T14:17:16.403Z</td>\n",
       "      <td>pgh.admin</td>\n",
       "      <td>2019-10-23T14:17:16.403Z</td>\n",
       "      <td>7.203337e+06</td>\n",
       "      <td>15697.914337</td>\n",
       "      <td>POLYGON ((-79.98275 40.44641, -79.98273 40.446...</td>\n",
       "    </tr>\n",
       "    <tr>\n",
       "      <th>4</th>\n",
       "      <td>5</td>\n",
       "      <td>5.0</td>\n",
       "      <td>42</td>\n",
       "      <td>003</td>\n",
       "      <td>020300</td>\n",
       "      <td>1</td>\n",
       "      <td>420030203001</td>\n",
       "      <td>Block Group 1</td>\n",
       "      <td>G5030</td>\n",
       "      <td>S</td>\n",
       "      <td>...</td>\n",
       "      <td>1.694785e+07</td>\n",
       "      <td>15</td>\n",
       "      <td>Andrea Lavin Kossis</td>\n",
       "      <td>pgh.admin</td>\n",
       "      <td>2019-10-23T14:17:16.403Z</td>\n",
       "      <td>pgh.admin</td>\n",
       "      <td>2019-10-23T14:17:16.403Z</td>\n",
       "      <td>1.694875e+07</td>\n",
       "      <td>24019.532672</td>\n",
       "      <td>POLYGON ((-79.97494 40.45629, -79.97484 40.456...</td>\n",
       "    </tr>\n",
       "  </tbody>\n",
       "</table>\n",
       "<p>5 rows × 38 columns</p>\n",
       "</div>"
      ],
      "text/plain": [
       "   objectid  fid_blockg statefp10 countyfp10 tractce10 blkgrpce10  \\\n",
       "0         1         0.0        42        003    040500          1   \n",
       "1         2         1.0        42        003    040400          1   \n",
       "2         3         2.0        42        003    040200          2   \n",
       "3         4         3.0        42        003    030500          2   \n",
       "4         5         5.0        42        003    020300          1   \n",
       "\n",
       "        geoid10     namelsad10 mtfcc10 funcstat10  ...    shape_ar_1  \\\n",
       "0  420030405001  Block Group 1   G5030          S  ...  7.843108e+06   \n",
       "1  420030404001  Block Group 1   G5030          S  ...  1.390463e+07   \n",
       "2  420030402002  Block Group 2   G5030          S  ...  5.999801e+06   \n",
       "3  420030305002  Block Group 2   G5030          S  ...  7.202139e+06   \n",
       "4  420030203001  Block Group 1   G5030          S  ...  1.694785e+07   \n",
       "\n",
       "   page_numbe           plannerass created_us                created_da  \\\n",
       "0          15        Derek Dauphin  pgh.admin  2019-10-23T14:17:16.403Z   \n",
       "1          15        Derek Dauphin  pgh.admin  2019-10-23T14:17:16.403Z   \n",
       "2          15        Derek Dauphin  pgh.admin  2019-10-23T14:17:16.403Z   \n",
       "3          15        Derek Dauphin  pgh.admin  2019-10-23T14:17:16.403Z   \n",
       "4          15  Andrea Lavin Kossis  pgh.admin  2019-10-23T14:17:16.403Z   \n",
       "\n",
       "   last_edite                last_edi_1    Shape__Are    Shape__Len  \\\n",
       "0   pgh.admin  2019-10-23T14:17:16.403Z  7.842997e+06  11525.904546   \n",
       "1   pgh.admin  2019-10-23T14:17:16.403Z  1.390469e+07  20945.562570   \n",
       "2   pgh.admin  2019-10-23T14:17:16.403Z  5.998649e+06  18280.484515   \n",
       "3   pgh.admin  2019-10-23T14:17:16.403Z  7.203337e+06  15697.914337   \n",
       "4   pgh.admin  2019-10-23T14:17:16.403Z  1.694875e+07  24019.532672   \n",
       "\n",
       "                                            geometry  \n",
       "0  POLYGON ((-79.95304 40.44203, -79.95302 40.442...  \n",
       "1  POLYGON ((-79.95455 40.45882, -79.95427 40.458...  \n",
       "2  POLYGON ((-79.96230 40.44294, -79.96220 40.442...  \n",
       "3  POLYGON ((-79.98275 40.44641, -79.98273 40.446...  \n",
       "4  POLYGON ((-79.97494 40.45629, -79.97484 40.456...  \n",
       "\n",
       "[5 rows x 38 columns]"
      ]
     },
     "execution_count": 4,
     "metadata": {},
     "output_type": "execute_result"
    }
   ],
   "source": [
    "neighborhoods = geopandas.read_file(\"Neighborhoods/Neighborhoods_.shp\")\n",
    "neighborhoods.head()"
   ]
  },
  {
   "cell_type": "code",
   "execution_count": 5,
   "metadata": {},
   "outputs": [],
   "source": [
    "import matplotlib.path as mplpath\n",
    "from geopy.geocoders import Nominatim"
   ]
  },
  {
   "cell_type": "code",
   "execution_count": 6,
   "metadata": {},
   "outputs": [],
   "source": [
    "geolocator = Nominatim(user_agent=\"cmpinf10-alex\")"
   ]
  },
  {
   "cell_type": "markdown",
   "metadata": {},
   "source": [
    "Here it starts getting complicated. The dataset provides unorganized information where \"neighborhood\" is on a different line for each separate entity with no apparent pattern as to which line it would appear on, meaning we could not sort by line to output just the neighborhood. Instead, we manually counted up the number of times a grocery store appears in a neighborhood. Then we noticed noticed some of the data did not inlclude supermarkets, but were rather places like residental addresses or non-food/non-store businesses. Because we manually counted the supermarkets per neighborhood, we could discard this faulty data."
   ]
  },
  {
   "cell_type": "code",
   "execution_count": 7,
   "metadata": {},
   "outputs": [],
   "source": [
    "s_neighborhoods = list()\n",
    "for index, row in only_supermarket.iterrows():\n",
    "    location = geolocator.reverse(\"{}, {}\".format(row['Lat'], row['Lon']))\n",
    "    geo_string = location.address.split(\",\")\n",
    "    s_neighborhoods.append(geo_string[0:9])"
   ]
  },
  {
   "cell_type": "markdown",
   "metadata": {},
   "source": [
    "For purpose of presentation, we will not display the long list of supermarket's geographic data, but will instead show the counts of supermarkets per neighborhood (list displayed on Alex's notebook)"
   ]
  },
  {
   "cell_type": "code",
   "execution_count": 8,
   "metadata": {},
   "outputs": [],
   "source": [
    "Lincoln_Lemington_Belmar = 2\n",
    "Richland_Township = 2\n",
    "Friendship = 1\n",
    "South_Side_Flats = 2\n",
    "Ross_Township = 1\n",
    "Verona = 2\n",
    "Robinson_Township = 1\n",
    "Harrison_Township = 2\n",
    "Coraopolis = 1\n",
    "Carrick = 1\n",
    "North_Oakland = 1\n",
    "Strip_district = 2\n",
    "Mount_Lebanon = 0\n",
    "Marshall_Township = 3\n",
    "Monroeville = 5\n",
    "Brentwood = 1\n",
    "Bloomfield = 3\n",
    "Brookline = 2\n",
    "Pleasant_Hills = 2\n",
    "Whitehall = 2\n",
    "McKeesport = 2\n",
    "Shadyside = 2\n",
    "Tarentum = 1\n",
    "North_versailles = 1\n",
    "Versailles = 2\n",
    "Beechcliff = 2\n",
    "West_mifflin = 5\n",
    "McCandless = 1\n",
    "East_Liberty = 3\n",
    "West_deer_township = 1\n",
    "Crafton = 1\n",
    "Wilkinsburg = 1\n",
    "White_oak = 1\n",
    "Mt_Nebo_Pointe = 1\n",
    "Frazer_township = 1\n",
    "Crawford_Roberts = 1\n",
    "Hampton_township = 1\n",
    "Penn_Hills = 2\n",
    "Baldwin = 1\n",
    "Homestead = 1\n",
    "West_homestead = 1\n",
    "Carnegie = 1\n",
    "Mount_Washington = 1\n",
    "Elizabeth_township = 1\n",
    "East_allegheny = 1\n",
    "Upper_Lawrenceville = 1\n",
    "Point_Breeze_North = 1\n",
    "Moon_Township = 1\n",
    "Bethel_Park = 2\n",
    "West_View_Park = 1\n",
    "Squirrel_Hill_South = 1"
   ]
  },
  {
   "cell_type": "markdown",
   "metadata": {},
   "source": [
    "Below the data is set into a list and put in descending order to create a bar graph."
   ]
  },
  {
   "cell_type": "code",
   "execution_count": 9,
   "metadata": {},
   "outputs": [
    {
     "name": "stdout",
     "output_type": "stream",
     "text": [
      "[5, 5, 3, 3, 3, 2, 2, 2, 2, 2, 2, 2, 2, 2, 2, 2, 2, 2, 2, 2, 1, 1, 1, 1, 1, 1, 1, 1, 1, 1, 1, 1, 1, 1, 1, 1, 1, 1, 1, 1, 1, 1, 1, 1, 1, 1, 1, 1, 1, 1, 0]\n"
     ]
    }
   ],
   "source": [
    "market_list = [Lincoln_Lemington_Belmar, Richland_Township, Friendship, South_Side_Flats, Ross_Township, Verona,\n",
    "               Robinson_Township, Harrison_Township, Coraopolis, Carrick, North_Oakland, Strip_district, Mount_Lebanon,\n",
    "               Marshall_Township, Monroeville, Brentwood, Bloomfield, Brookline, Pleasant_Hills, Whitehall, McKeesport,\n",
    "               Shadyside, Tarentum, North_versailles, Versailles, Beechcliff, West_mifflin, McCandless, East_Liberty,\n",
    "               West_deer_township, Crafton, Wilkinsburg, White_oak, Mt_Nebo_Pointe, Frazer_township, Crawford_Roberts,\n",
    "               Hampton_township, Penn_Hills, Baldwin, Homestead, West_homestead, Carnegie, Mount_Washington,\n",
    "               Elizabeth_township, East_allegheny, Upper_Lawrenceville, Point_Breeze_North, Moon_Township, Bethel_Park,\n",
    "               West_View_Park, Squirrel_Hill_South]\n",
    "print(sorted(market_list, reverse=True))"
   ]
  },
  {
   "cell_type": "code",
   "execution_count": 10,
   "metadata": {},
   "outputs": [
    {
     "data": {
      "text/plain": [
       "<matplotlib.axes._subplots.AxesSubplot at 0x7f75d5d9c460>"
      ]
     },
     "execution_count": 10,
     "metadata": {},
     "output_type": "execute_result"
    },
    {
     "data": {
      "image/png": "[encoded data removed]",
      "text/plain": [
       "<Figure size 432x288 with 1 Axes>"
      ]
     },
     "metadata": {
      "needs_background": "light"
     },
     "output_type": "display_data"
    }
   ],
   "source": [
    "pd.Series([5, 5, 3, 3, 3, 2, 2, 2, 2, 2, 2, 2, 2, 2, 2, 2, 2, 2, 2, 2, 1, 1, 1, 1, 1, 1, 1, 1, 1, 1, 1, 1, 1, 1, 1, 1, 1, 1, 1, 1, 1, 1, 1, 1, 1, 1, 1, 1, 1, 1, 0], index=[market_list]).plot.bar()"
   ]
  },
  {
   "cell_type": "markdown",
   "metadata": {},
   "source": [
    "From the results, the best neighborhoods are Monroeville and West Mifflin (4 grocery stores each), followed by Marshall Township, Bloomfield, and East Liberty (3 grocery stores each).\n",
    "\n",
    "Limitations of this dataset include the faulty data, which caused me to manually analyze and tally the amount of supermarkets in each neighborhood. Similarily, the dataset was faulty including addresses for places like \"Pizza Hut\" and private residences that are not grocery stores. These faulty data needed sorting out."
   ]
  },
  {
   "cell_type": "markdown",
   "metadata": {},
   "source": [
    "## Walkability"
   ]
  },
  {
   "cell_type": "markdown",
   "metadata": {},
   "source": [
    "this metric details each neighborhoods individual walkability score on a scale from 0 - 100 "
   ]
  },
  {
   "cell_type": "markdown",
   "metadata": {},
   "source": [
    "*the below code will allow me to seperate the data based on the census tract numbers and determine the mean walk score in pittsburgh*\n",
    "\n",
    "*this is important information to have because it gives you a frame of reference when thinking about what a good walkscore would be.  The mean walk score in pittsburgh is about a 42, which is very low, meaning that some neighborhoods have very low walk scores and thus would provide no options for those who do not wish to take public transportation or don't own a car.  This just makes the neighborhoods with high walk scores that much better in comparison*"
   ]
  },
  {
   "cell_type": "code",
   "execution_count": 1,
   "metadata": {},
   "outputs": [
    {
     "data": {
      "text/plain": [
       "Walk Score    42.330846\n",
       "dtype: float64"
      ]
     },
     "execution_count": 1,
     "metadata": {},
     "output_type": "execute_result"
    }
   ],
   "source": [
    "import pandas as pd\n",
    "\n",
    "# import the data frame and assign it to \"walk_scores\"\n",
    "walk_scores = pd.read_csv(\"https://data.wprdc.org/datastore/dump/682b1df1-a63b-4413-9362-ba077af63baa\",\n",
    "                         index_col = \"Census Tract\")\n",
    "\n",
    "# import the data frame and assign it to \"census_number\"\n",
    "census_number = pd.read_csv(\"https://data.wprdc.org/datastore/dump/682b1df1-a63b-4413-9362-ba077af63baa\",\n",
    "                           index_col = \"Walk Score\")\n",
    "\n",
    "# display the first 5 rows of the data set\n",
    "walk_scores.mean()"
   ]
  },
  {
   "cell_type": "markdown",
   "metadata": {},
   "source": [
    "*this will create a bar graph displaying all of the highest walkability scores and their respective census tracts*"
   ]
  },
  {
   "cell_type": "code",
   "execution_count": 2,
   "metadata": {},
   "outputs": [
    {
     "data": {
      "text/plain": [
       "<matplotlib.axes._subplots.AxesSubplot at 0x7fc053cedcd0>"
      ]
     },
     "execution_count": 2,
     "metadata": {},
     "output_type": "execute_result"
    },
    {
     "data": {
      "image/png": "[encoded data removed]",
      "text/plain": [
       "<Figure size 432x288 with 1 Axes>"
      ]
     },
     "metadata": {
      "needs_background": "light"
     },
     "output_type": "display_data"
    }
   ],
   "source": [
    "import pandas as pd\n",
    "import numpy as np\n",
    "%matplotlib inline\n",
    "import matplotlib.pyplot as plt\n",
    "\n",
    "# import the data frame and assign it to \"walk_scores\"\n",
    "walk_scores = pd.read_csv(\"https://data.wprdc.org/datastore/dump/682b1df1-a63b-4413-9362-ba077af63baa\",\n",
    "                         index_col = \"Census Tract\")\n",
    "\n",
    "# import the data frame and assign it to \"census_number\"\n",
    "census_number = pd.read_csv(\"https://data.wprdc.org/datastore/dump/682b1df1-a63b-4413-9362-ba077af63baa\",\n",
    "                           index_col = \"Walk Score\")\n",
    "\n",
    "census_number.plot(kind = \"bar\") # create a bar graph based on the census tract data"
   ]
  },
  {
   "cell_type": "markdown",
   "metadata": {},
   "source": [
    "*there were a few limitations with the way this data was presented, one being that the data uses the census tract numbers in order to define locations instead of street addresses, which were hard to back track and find which neighborhood corresponded to which number*"
   ]
  },
  {
   "cell_type": "markdown",
   "metadata": {},
   "source": [
    "### Gardens\n",
    "\n"
   ]
  },
  {
   "cell_type": "markdown",
   "metadata": {},
   "source": [
    "My data set is food gardens within Allegheny County. This is measured by the number of gardens per neighborhood within the county. Community gardens are important to have for fresh fruits and vegetable that may not be accessible in local stores within the neighborhood. "
   ]
  },
  {
   "cell_type": "markdown",
   "metadata": {},
   "source": [
    "__Explainations & Data Sets__"
   ]
  },
  {
   "cell_type": "code",
   "execution_count": 11,
   "metadata": {},
   "outputs": [
    {
     "data": {
      "text/html": [
       "<div>\n",
       "<style scoped>\n",
       "    .dataframe tbody tr th:only-of-type {\n",
       "        vertical-align: middle;\n",
       "    }\n",
       "\n",
       "    .dataframe tbody tr th {\n",
       "        vertical-align: top;\n",
       "    }\n",
       "\n",
       "    .dataframe thead th {\n",
       "        text-align: right;\n",
       "    }\n",
       "</style>\n",
       "<table border=\"1\" class=\"dataframe\">\n",
       "  <thead>\n",
       "    <tr style=\"text-align: right;\">\n",
       "      <th></th>\n",
       "      <th>urban_grower</th>\n",
       "      <th>grower_id</th>\n",
       "      <th>category</th>\n",
       "      <th>url</th>\n",
       "      <th>street_address</th>\n",
       "      <th>state</th>\n",
       "      <th>zip_code</th>\n",
       "      <th>country</th>\n",
       "      <th>latitude</th>\n",
       "      <th>longitude</th>\n",
       "    </tr>\n",
       "    <tr>\n",
       "      <th>city</th>\n",
       "      <th></th>\n",
       "      <th></th>\n",
       "      <th></th>\n",
       "      <th></th>\n",
       "      <th></th>\n",
       "      <th></th>\n",
       "      <th></th>\n",
       "      <th></th>\n",
       "      <th></th>\n",
       "      <th></th>\n",
       "    </tr>\n",
       "  </thead>\n",
       "  <tbody>\n",
       "    <tr>\n",
       "      <th>Bethel Park</th>\n",
       "      <td>The Samuel and Anna Mae Richardson Community G...</td>\n",
       "      <td>663</td>\n",
       "      <td>community-farm</td>\n",
       "      <td>https://www.growpittsburgh.org/directory/garde...</td>\n",
       "      <td>5427 Willow Street</td>\n",
       "      <td>Pennsylvania</td>\n",
       "      <td>15102.0</td>\n",
       "      <td>US</td>\n",
       "      <td>40.323229</td>\n",
       "      <td>-80.040500</td>\n",
       "    </tr>\n",
       "    <tr>\n",
       "      <th>Coraopolis</th>\n",
       "      <td>Coraopolis Community Garden</td>\n",
       "      <td>664</td>\n",
       "      <td>community-farm</td>\n",
       "      <td>https://www.growpittsburgh.org/directory/garde...</td>\n",
       "      <td>411 Broadway Avenue</td>\n",
       "      <td>Pennsylvania</td>\n",
       "      <td>15108.0</td>\n",
       "      <td>US</td>\n",
       "      <td>40.516753</td>\n",
       "      <td>-80.160618</td>\n",
       "    </tr>\n",
       "    <tr>\n",
       "      <th>Crafton</th>\n",
       "      <td>Crafton Community Farm</td>\n",
       "      <td>665</td>\n",
       "      <td>community-farm</td>\n",
       "      <td>https://www.growpittsburgh.org/directory/garde...</td>\n",
       "      <td>117 West Steuben Street</td>\n",
       "      <td>Pennsylvania</td>\n",
       "      <td>15205.0</td>\n",
       "      <td>US</td>\n",
       "      <td>40.438964</td>\n",
       "      <td>-80.072817</td>\n",
       "    </tr>\n",
       "    <tr>\n",
       "      <th>Pittsburgh</th>\n",
       "      <td>Community Human Services Teaching Garden</td>\n",
       "      <td>666</td>\n",
       "      <td>community-farm</td>\n",
       "      <td>https://www.growpittsburgh.org/directory/garde...</td>\n",
       "      <td>370 Lawn Street</td>\n",
       "      <td>Pennsylvania</td>\n",
       "      <td>15213.0</td>\n",
       "      <td>US</td>\n",
       "      <td>40.433691</td>\n",
       "      <td>-79.961356</td>\n",
       "    </tr>\n",
       "    <tr>\n",
       "      <th>Pittsburgh</th>\n",
       "      <td>Landslide Community Farm</td>\n",
       "      <td>667</td>\n",
       "      <td>community-farm</td>\n",
       "      <td>https://www.growpittsburgh.org/directory/garde...</td>\n",
       "      <td>3 Beelen Street</td>\n",
       "      <td>Pennsylvania</td>\n",
       "      <td>15213.0</td>\n",
       "      <td>US</td>\n",
       "      <td>40.438160</td>\n",
       "      <td>-79.972440</td>\n",
       "    </tr>\n",
       "  </tbody>\n",
       "</table>\n",
       "</div>"
      ],
      "text/plain": [
       "                                                  urban_grower  grower_id  \\\n",
       "city                                                                        \n",
       "Bethel Park  The Samuel and Anna Mae Richardson Community G...        663   \n",
       "Coraopolis                         Coraopolis Community Garden        664   \n",
       "Crafton                                 Crafton Community Farm        665   \n",
       "Pittsburgh            Community Human Services Teaching Garden        666   \n",
       "Pittsburgh                            Landslide Community Farm        667   \n",
       "\n",
       "                   category  \\\n",
       "city                          \n",
       "Bethel Park  community-farm   \n",
       "Coraopolis   community-farm   \n",
       "Crafton      community-farm   \n",
       "Pittsburgh   community-farm   \n",
       "Pittsburgh   community-farm   \n",
       "\n",
       "                                                           url  \\\n",
       "city                                                             \n",
       "Bethel Park  https://www.growpittsburgh.org/directory/garde...   \n",
       "Coraopolis   https://www.growpittsburgh.org/directory/garde...   \n",
       "Crafton      https://www.growpittsburgh.org/directory/garde...   \n",
       "Pittsburgh   https://www.growpittsburgh.org/directory/garde...   \n",
       "Pittsburgh   https://www.growpittsburgh.org/directory/garde...   \n",
       "\n",
       "                      street_address         state  zip_code country  \\\n",
       "city                                                                   \n",
       "Bethel Park       5427 Willow Street  Pennsylvania   15102.0      US   \n",
       "Coraopolis       411 Broadway Avenue  Pennsylvania   15108.0      US   \n",
       "Crafton      117 West Steuben Street  Pennsylvania   15205.0      US   \n",
       "Pittsburgh           370 Lawn Street  Pennsylvania   15213.0      US   \n",
       "Pittsburgh           3 Beelen Street  Pennsylvania   15213.0      US   \n",
       "\n",
       "              latitude  longitude  \n",
       "city                               \n",
       "Bethel Park  40.323229 -80.040500  \n",
       "Coraopolis   40.516753 -80.160618  \n",
       "Crafton      40.438964 -80.072817  \n",
       "Pittsburgh   40.433691 -79.961356  \n",
       "Pittsburgh   40.438160 -79.972440  "
      ]
     },
     "execution_count": 11,
     "metadata": {},
     "output_type": "execute_result"
    }
   ],
   "source": [
    "import pandas as pd\n",
    "gardens = pd.read_csv(\"https://data.wprdc.org/datastore/dump/dbdfcb3e-8fa5-4468-9b05-f69562798f7a\",\n",
    "            index_col = \"city\",    \n",
    "            parse_dates = True)\n",
    "\n",
    "query_mask = gardens ['category'] == \"community-farm\"\n",
    "farm_data = gardens [query_mask]\n",
    "farm_data.head()"
   ]
  },
  {
   "cell_type": "markdown",
   "metadata": {},
   "source": [
    "Through the query mask system, I was able to separate the community gardens within Pittsburgh although there are many different types throughout the city. This includes school gardens, susitainibility gardes, allgheny grow site, and other. Majority of individuals in the community are able to recieve their fruits and vegtiables through community gardens."
   ]
  },
  {
   "cell_type": "code",
   "execution_count": null,
   "metadata": {},
   "outputs": [],
   "source": [
    "|urban_grower|category|city|\n",
    "|---||---||---||---||---||---|\n",
    "|The Samuel & Anna Mae Richardson Community|community farm|Bethel Park|\n",
    "|Community Human Services Teaching Garden|community farm|Pittsburgh|\n",
    "|Landslide Community Farm|community farm|Pittsburgh|\n",
    "|Rosalinda Sauro Sirianni Memorial Garden|community farm|Pittsburgh|\n",
    "|Second UP Garden|community farm|Pittsburgh|\n",
    "|Earl Brooks Community Garden|commuity farm|Pittsburgh|\n",
    "|Garfield Community Farm| community farm|Pittsburgh|"
   ]
  },
  {
   "cell_type": "markdown",
   "metadata": {},
   "source": [
    "Below shows a visual of the garden types that are promiently througout Allegheny county and provide to their community memebers."
   ]
  },
  {
   "cell_type": "code",
   "execution_count": 9,
   "metadata": {},
   "outputs": [
    {
     "data": {
      "text/plain": [
       "<matplotlib.axes._subplots.AxesSubplot at 0x7f4abd0090d0>"
      ]
     },
     "execution_count": 9,
     "metadata": {},
     "output_type": "execute_result"
    },
    {
     "data": {
      "image/png": "[encoded data removed]",
      "text/plain": [
       "<Figure size 432x288 with 1 Axes>"
      ]
     },
     "metadata": {
      "needs_background": "light"
     },
     "output_type": "display_data"
    }
   ],
   "source": [
    "import pandas as pd\n",
    "import numpy as np\n",
    "%matplotlib inline\n",
    "import matplotlib.pyplot as plt\n",
    "garden_city = pd.read_csv(\"https://data.wprdc.org/datastore/dump/dbdfcb3e-8fa5-4468-9b05-f69562798f7a\",\n",
    "                         index_col = \"city\")\n",
    "\n",
    "garden_types = pd.read_csv(\"https://data.wprdc.org/datastore/dump/dbdfcb3e-8fa5-4468-9b05-f69562798f7a\",\n",
    "                          index_col = \"category\")\n",
    "garden_types.plot(kind = \"bar\")\n"
   ]
  },
  {
   "cell_type": "markdown",
   "metadata": {},
   "source": [
    "## Conclusion\n",
    "\n",
    "Using the above data, we were able to determine the best neighobrhood by liveability is **Downtown Pittsburgh (Central Business District)**"
   ]
  },
  {
   "cell_type": "markdown",
   "metadata": {},
   "source": [
    "In order to determine this we ranked each metric in terms of importance, with supermarkets being deemed the most important, followed by walkability, and then community garden access. For each metric we took the top 5 neighborhoods and scored them on scales from 1 to 5, with the first best neighborhood getting 5 points and the fifth best neighborhood getting 1 point. Then we took this score and muliplied it by the metric's weight, so each neighborhood in supermarket's top list was multiplied by 3, each in walkability by 2, and in community gardens by 1. This work produced the following results:\n",
    "\n",
    "\n",
    "**SUPERMARKET (x3, most important metric)**\n",
    "\n",
    "Monroeville - 5 x 3 = 15\n",
    "\n",
    "West Mifflin - 5 x 3 = 15\n",
    "\n",
    "Marshall Township - 3 x 3 = 9\n",
    "\n",
    "Bloomfield - 3 x 3 = 9\n",
    "\n",
    "East Liberty - 3 x 3 = 9\n",
    "\n",
    "*NOTE: Monroeville + West Mifflin as well as  Marshall Township + Bloomfield + East Liberty receive the same score, tied positions\n",
    "\n",
    "\n",
    "**WALKABILITY (x2, 2nd most important metric)**\n",
    "\n",
    "Downtown Pittsburgh - 5 x 2 = 10\n",
    "\n",
    "Central oakland - 4 x 2 = 8\n",
    "\n",
    "Friendship - 4 x 2 = 8\n",
    "\n",
    "Bloomfield - 2 x 2 = 4\n",
    "\n",
    "North Oakland - 2 x 2 = 4\n",
    "\n",
    "*NOTE: Central Oakland + Friendship receive the same score as well as Bloomfield + North Oakland, tied positions\n",
    "\n",
    "\n",
    "**COMMUNITY GARDENS (x1)**\n",
    "\n",
    "Downtown Pittsburgh - 5 x 1 = 5\n",
    "\n",
    "East Liberty - 4 x 1 = 4\n",
    "\n",
    "Crafton - 3 x 1 = 3\n",
    "\n",
    "Squirrel Hill - 2 x 1 = 2\n",
    "\n",
    "Fox Chapel - 1 x 1 = 1\n",
    "\n",
    "\n",
    "**OVERALL:**\n",
    "\n",
    "**Downtown = 15** *preference because inside Pittsburgh City Limits\n",
    "\n",
    "Monroeville = 15\n",
    "\n",
    "West Mifflin = 15\n",
    "\n",
    "Marshall Township = 9\n",
    "\n",
    "Bloomfield = 13\n",
    "\n",
    "East Liberty = 13\n",
    "\n",
    "Central Oakland = 8\n",
    "\n",
    "Friendship = 8\n",
    "\n",
    "North Oakland = 4\n",
    "\n",
    "Crafton = 3\n",
    "\n",
    "Squirrel Hill = 2\n",
    "\n",
    "Fox Chapel = 1\n"
   ]
  },
  {
   "cell_type": "code",
   "execution_count": null,
   "metadata": {},
   "outputs": [],
   "source": []
  }
 ],
 "metadata": {
  "kernelspec": {
   "display_name": "Python 3",
   "language": "python",
   "name": "python3"
  },
  "language_info": {
   "codemirror_mode": {
    "name": "ipython",
    "version": 3
   },
   "file_extension": ".py",
   "mimetype": "text/x-python",
   "name": "python",
   "nbconvert_exporter": "python",
   "pygments_lexer": "ipython3",
   "version": "3.8.3"
  }
 },
 "nbformat": 4,
 "nbformat_minor": 4
}

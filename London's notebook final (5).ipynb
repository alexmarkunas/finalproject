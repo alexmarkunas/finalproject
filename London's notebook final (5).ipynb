{
 "cells": [
  {
   "cell_type": "markdown",
   "metadata": {},
   "source": [
    "__Introduction__"
   ]
  },
  {
   "cell_type": "markdown",
   "metadata": {},
   "source": [
    "My data set is food gardens within Allegheny County. This is measured by the number of gardens per neighborhood within the county. Community gardens are important to have for fresh fruits and vegetable that may not be accessible in local stores within the neighborhood. "
   ]
  },
  {
   "cell_type": "markdown",
   "metadata": {},
   "source": [
    "__Explainations & Data Sets__"
   ]
  },
  {
   "cell_type": "code",
   "execution_count": 11,
   "metadata": {},
   "outputs": [
    {
     "data": {
      "text/html": [
       "<div>\n",
       "<style scoped>\n",
       "    .dataframe tbody tr th:only-of-type {\n",
       "        vertical-align: middle;\n",
       "    }\n",
       "\n",
       "    .dataframe tbody tr th {\n",
       "        vertical-align: top;\n",
       "    }\n",
       "\n",
       "    .dataframe thead th {\n",
       "        text-align: right;\n",
       "    }\n",
       "</style>\n",
       "<table border=\"1\" class=\"dataframe\">\n",
       "  <thead>\n",
       "    <tr style=\"text-align: right;\">\n",
       "      <th></th>\n",
       "      <th>urban_grower</th>\n",
       "      <th>grower_id</th>\n",
       "      <th>category</th>\n",
       "      <th>url</th>\n",
       "      <th>street_address</th>\n",
       "      <th>state</th>\n",
       "      <th>zip_code</th>\n",
       "      <th>country</th>\n",
       "      <th>latitude</th>\n",
       "      <th>longitude</th>\n",
       "    </tr>\n",
       "    <tr>\n",
       "      <th>city</th>\n",
       "      <th></th>\n",
       "      <th></th>\n",
       "      <th></th>\n",
       "      <th></th>\n",
       "      <th></th>\n",
       "      <th></th>\n",
       "      <th></th>\n",
       "      <th></th>\n",
       "      <th></th>\n",
       "      <th></th>\n",
       "    </tr>\n",
       "  </thead>\n",
       "  <tbody>\n",
       "    <tr>\n",
       "      <th>Bethel Park</th>\n",
       "      <td>The Samuel and Anna Mae Richardson Community G...</td>\n",
       "      <td>663</td>\n",
       "      <td>community-farm</td>\n",
       "      <td>https://www.growpittsburgh.org/directory/garde...</td>\n",
       "      <td>5427 Willow Street</td>\n",
       "      <td>Pennsylvania</td>\n",
       "      <td>15102.0</td>\n",
       "      <td>US</td>\n",
       "      <td>40.323229</td>\n",
       "      <td>-80.040500</td>\n",
       "    </tr>\n",
       "    <tr>\n",
       "      <th>Coraopolis</th>\n",
       "      <td>Coraopolis Community Garden</td>\n",
       "      <td>664</td>\n",
       "      <td>community-farm</td>\n",
       "      <td>https://www.growpittsburgh.org/directory/garde...</td>\n",
       "      <td>411 Broadway Avenue</td>\n",
       "      <td>Pennsylvania</td>\n",
       "      <td>15108.0</td>\n",
       "      <td>US</td>\n",
       "      <td>40.516753</td>\n",
       "      <td>-80.160618</td>\n",
       "    </tr>\n",
       "    <tr>\n",
       "      <th>Crafton</th>\n",
       "      <td>Crafton Community Farm</td>\n",
       "      <td>665</td>\n",
       "      <td>community-farm</td>\n",
       "      <td>https://www.growpittsburgh.org/directory/garde...</td>\n",
       "      <td>117 West Steuben Street</td>\n",
       "      <td>Pennsylvania</td>\n",
       "      <td>15205.0</td>\n",
       "      <td>US</td>\n",
       "      <td>40.438964</td>\n",
       "      <td>-80.072817</td>\n",
       "    </tr>\n",
       "    <tr>\n",
       "      <th>Pittsburgh</th>\n",
       "      <td>Community Human Services Teaching Garden</td>\n",
       "      <td>666</td>\n",
       "      <td>community-farm</td>\n",
       "      <td>https://www.growpittsburgh.org/directory/garde...</td>\n",
       "      <td>370 Lawn Street</td>\n",
       "      <td>Pennsylvania</td>\n",
       "      <td>15213.0</td>\n",
       "      <td>US</td>\n",
       "      <td>40.433691</td>\n",
       "      <td>-79.961356</td>\n",
       "    </tr>\n",
       "    <tr>\n",
       "      <th>Pittsburgh</th>\n",
       "      <td>Landslide Community Farm</td>\n",
       "      <td>667</td>\n",
       "      <td>community-farm</td>\n",
       "      <td>https://www.growpittsburgh.org/directory/garde...</td>\n",
       "      <td>3 Beelen Street</td>\n",
       "      <td>Pennsylvania</td>\n",
       "      <td>15213.0</td>\n",
       "      <td>US</td>\n",
       "      <td>40.438160</td>\n",
       "      <td>-79.972440</td>\n",
       "    </tr>\n",
       "  </tbody>\n",
       "</table>\n",
       "</div>"
      ],
      "text/plain": [
       "                                                  urban_grower  grower_id  \\\n",
       "city                                                                        \n",
       "Bethel Park  The Samuel and Anna Mae Richardson Community G...        663   \n",
       "Coraopolis                         Coraopolis Community Garden        664   \n",
       "Crafton                                 Crafton Community Farm        665   \n",
       "Pittsburgh            Community Human Services Teaching Garden        666   \n",
       "Pittsburgh                            Landslide Community Farm        667   \n",
       "\n",
       "                   category  \\\n",
       "city                          \n",
       "Bethel Park  community-farm   \n",
       "Coraopolis   community-farm   \n",
       "Crafton      community-farm   \n",
       "Pittsburgh   community-farm   \n",
       "Pittsburgh   community-farm   \n",
       "\n",
       "                                                           url  \\\n",
       "city                                                             \n",
       "Bethel Park  https://www.growpittsburgh.org/directory/garde...   \n",
       "Coraopolis   https://www.growpittsburgh.org/directory/garde...   \n",
       "Crafton      https://www.growpittsburgh.org/directory/garde...   \n",
       "Pittsburgh   https://www.growpittsburgh.org/directory/garde...   \n",
       "Pittsburgh   https://www.growpittsburgh.org/directory/garde...   \n",
       "\n",
       "                      street_address         state  zip_code country  \\\n",
       "city                                                                   \n",
       "Bethel Park       5427 Willow Street  Pennsylvania   15102.0      US   \n",
       "Coraopolis       411 Broadway Avenue  Pennsylvania   15108.0      US   \n",
       "Crafton      117 West Steuben Street  Pennsylvania   15205.0      US   \n",
       "Pittsburgh           370 Lawn Street  Pennsylvania   15213.0      US   \n",
       "Pittsburgh           3 Beelen Street  Pennsylvania   15213.0      US   \n",
       "\n",
       "              latitude  longitude  \n",
       "city                               \n",
       "Bethel Park  40.323229 -80.040500  \n",
       "Coraopolis   40.516753 -80.160618  \n",
       "Crafton      40.438964 -80.072817  \n",
       "Pittsburgh   40.433691 -79.961356  \n",
       "Pittsburgh   40.438160 -79.972440  "
      ]
     },
     "execution_count": 11,
     "metadata": {},
     "output_type": "execute_result"
    }
   ],
   "source": [
    "import pandas as pd\n",
    "gardens = pd.read_csv(\"https://data.wprdc.org/datastore/dump/dbdfcb3e-8fa5-4468-9b05-f69562798f7a\",\n",
    "            index_col = \"city\",    \n",
    "            parse_dates = True)\n",
    "\n",
    "query_mask = gardens ['category'] == \"community-farm\"\n",
    "farm_data = gardens [query_mask]\n",
    "farm_data.head()"
   ]
  },
  {
   "cell_type": "markdown",
   "metadata": {},
   "source": [
    "Through the query mask system, I was able to separate the community gardens within Pittsburgh although there are many different types throughout the city. This includes school gardens, susitainibility gardes, allgheny grow site, and other. Majority of individuals in the community are able to recieve their fruits and vegtiables through community gardens."
   ]
  },
  {
   "cell_type": "code",
   "execution_count": null,
   "metadata": {},
   "outputs": [],
   "source": [
    "|urban_grower|category|city|\n",
    "|---||---||---||---||---||---|\n",
    "|The Samuel & Anna Mae Richardson Community|community farm|Bethel Park|\n",
    "|Community Human Services Teaching Garden|community farm|Pittsburgh|\n",
    "|Landslide Community Farm|community farm|Pittsburgh|\n",
    "|Rosalinda Sauro Sirianni Memorial Garden|community farm|Pittsburgh|\n",
    "|Second UP Garden|community farm|Pittsburgh|\n",
    "|Earl Brooks Community Garden|commuity farm|Pittsburgh|\n",
    "|Garfield Community Farm| community farm|Pittsburgh|"
   ]
  },
  {
   "cell_type": "markdown",
   "metadata": {},
   "source": [
    "Below shows a visual of the garden types that are promiently througout Allegheny county and provide to their community memebers."
   ]
  },
  {
   "cell_type": "code",
   "execution_count": 9,
   "metadata": {},
   "outputs": [
    {
     "data": {
      "text/plain": [
       "<matplotlib.axes._subplots.AxesSubplot at 0x7f4abd0090d0>"
      ]
     },
     "execution_count": 9,
     "metadata": {},
     "output_type": "execute_result"
    },
    {
     "data": {
      "image/png": "[encoded data removed]",
      "text/plain": [
       "<Figure size 432x288 with 1 Axes>"
      ]
     },
     "metadata": {
      "needs_background": "light"
     },
     "output_type": "display_data"
    }
   ],
   "source": [
    "import pandas as pd\n",
    "import numpy as np\n",
    "%matplotlib inline\n",
    "import matplotlib.pyplot as plt\n",
    "garden_city = pd.read_csv(\"https://data.wprdc.org/datastore/dump/dbdfcb3e-8fa5-4468-9b05-f69562798f7a\",\n",
    "                         index_col = \"city\")\n",
    "\n",
    "garden_types = pd.read_csv(\"https://data.wprdc.org/datastore/dump/dbdfcb3e-8fa5-4468-9b05-f69562798f7a\",\n",
    "                          index_col = \"category\")\n",
    "garden_types.plot(kind = \"bar\")\n"
   ]
  },
  {
   "cell_type": "markdown",
   "metadata": {},
   "source": [
    "__Conclusion__"
   ]
  },
  {
   "cell_type": "markdown",
   "metadata": {},
   "source": [
    "Within Allegheny county, there are majority of community gardens used within communities for their needs, although school-gardens are prominent within the county as well, they are only used for needs of the school and is less likely to be distributed within the community since this garden is soely based on the need of students. Based on the information given majority of gardens were in the city of Downtown Pittsburgh area, East Liberty, Crafton,Squirrel hill and Fox Chapel.(2-3 to each zipcode specifically) Additonally, due to the data set there are some erros of community gardens listed as other which may have created inaccurace for residents who may need these addresses for their needs. "
   ]
  },
  {
   "cell_type": "code",
   "execution_count": null,
   "metadata": {},
   "outputs": [],
   "source": []
  }
 ],
 "metadata": {
  "kernelspec": {
   "display_name": "Python 3",
   "language": "python",
   "name": "python3"
  },
  "language_info": {
   "codemirror_mode": {
    "name": "ipython",
    "version": 3
   },
   "file_extension": ".py",
   "mimetype": "text/x-python",
   "name": "python",
   "nbconvert_exporter": "python",
   "pygments_lexer": "ipython3",
   "version": "3.8.3"
  }
 },
 "nbformat": 4,
 "nbformat_minor": 4
}

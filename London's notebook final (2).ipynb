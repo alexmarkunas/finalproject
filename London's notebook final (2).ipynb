{
 "cells": [
  {
   "cell_type": "markdown",
   "metadata": {},
   "source": [
    "__Introduction__"
   ]
  },
  {
   "cell_type": "markdown",
   "metadata": {},
   "source": [
    "My data set is food gardens within Allegheny County. This is measured by the number of gardens per neighborhood within the county. Community gardens are important to have for fresh fruits and vegetable that may not be accessible in local stores within the neighborhood. "
   ]
  },
  {
   "cell_type": "markdown",
   "metadata": {},
   "source": [
    "__Explainations & Data Sets__"
   ]
  },
  {
   "cell_type": "code",
   "execution_count": 4,
   "metadata": {},
   "outputs": [
    {
     "ename": "SyntaxError",
     "evalue": "invalid syntax (<ipython-input-4-872ee30a08cf>, line 2)",
     "output_type": "error",
     "traceback": [
      "\u001b[0;36m  File \u001b[0;32m\"<ipython-input-4-872ee30a08cf>\"\u001b[0;36m, line \u001b[0;32m2\u001b[0m\n\u001b[0;31m    index_col = \"urban_grower\",\u001b[0m\n\u001b[0m    ^\u001b[0m\n\u001b[0;31mSyntaxError\u001b[0m\u001b[0;31m:\u001b[0m invalid syntax\n"
     ]
    }
   ],
   "source": [
    "gardens = pd.read_csv(\"https://data.wprdc.org/datastore/dump/dbdfcb3e-8fa5-4468-9b05-f69562798f7a\",\n",
    "            index_col = \"urban_grower\",    \n",
    "            parse_dates = True)\n",
    "\n",
    "gardens.sample()"
   ]
  },
  {
   "cell_type": "markdown",
   "metadata": {},
   "source": [
    "Through the query mask system, I was able to separate the community gardens within Pittsburgh although there are many different types throughout the city. This includes school gardens, susitainibility gardes, allgheny grow site, and other. Majority of individuals in the community are able to recieve their fruits and vegtiables through community gardens."
   ]
  },
  {
   "cell_type": "code",
   "execution_count": 7,
   "metadata": {},
   "outputs": [
    {
     "ename": "NameError",
     "evalue": "name 'garden_type' is not defined",
     "output_type": "error",
     "traceback": [
      "\u001b[0;31m---------------------------------------------------------------------------\u001b[0m",
      "\u001b[0;31mNameError\u001b[0m                                 Traceback (most recent call last)",
      "\u001b[0;32m<ipython-input-7-db505db5c9f3>\u001b[0m in \u001b[0;36m<module>\u001b[0;34m\u001b[0m\n\u001b[0;32m----> 1\u001b[0;31m \u001b[0mquery_mask\u001b[0m \u001b[0;34m=\u001b[0m \u001b[0mgarden_type\u001b[0m\u001b[0;34m[\u001b[0m\u001b[0;34m\"Category\"\u001b[0m\u001b[0;34m]\u001b[0m \u001b[0;34m=\u001b[0m \u001b[0;34m\"community-farm\"\u001b[0m\u001b[0;34m\u001b[0m\u001b[0;34m\u001b[0m\u001b[0m\n\u001b[0m\u001b[1;32m      2\u001b[0m \u001b[0mgarden_type\u001b[0m \u001b[0;34m=\u001b[0m \u001b[0mgarden_type\u001b[0m\u001b[0;34m[\u001b[0m\u001b[0mquery_mask\u001b[0m\u001b[0;34m]\u001b[0m\u001b[0;34m\u001b[0m\u001b[0;34m\u001b[0m\u001b[0m\n\u001b[1;32m      3\u001b[0m \u001b[0mgarden_type\u001b[0m\u001b[0;34m.\u001b[0m\u001b[0mhead\u001b[0m\u001b[0;34m(\u001b[0m\u001b[0;34m)\u001b[0m\u001b[0;34m\u001b[0m\u001b[0;34m\u001b[0m\u001b[0m\n",
      "\u001b[0;31mNameError\u001b[0m: name 'garden_type' is not defined"
     ]
    }
   ],
   "source": [
    "query_mask = garden_type[\"Category\"] = \"community-farm\"\n",
    "garden_type = garden_type[query_mask]\n",
    "garden_type.head()"
   ]
  },
  {
   "cell_type": "code",
   "execution_count": 5,
   "metadata": {},
   "outputs": [
    {
     "ename": "SyntaxError",
     "evalue": "invalid syntax (<ipython-input-5-03258b618428>, line 1)",
     "output_type": "error",
     "traceback": [
      "\u001b[0;36m  File \u001b[0;32m\"<ipython-input-5-03258b618428>\"\u001b[0;36m, line \u001b[0;32m1\u001b[0m\n\u001b[0;31m    |urban_grower|category|city|\u001b[0m\n\u001b[0m    ^\u001b[0m\n\u001b[0;31mSyntaxError\u001b[0m\u001b[0;31m:\u001b[0m invalid syntax\n"
     ]
    }
   ],
   "source": [
    "|urban_grower|category|city|\n",
    "|---||---||---||---||---||---|\n",
    "|The Samuel & Anna Mae Richardson Community|community farm|Bethel Park|\n",
    "|Community Human Services Teaching Garden|community farm|Pittsburgh|\n",
    "|Landslide Community Farm|community farm|Pittsburgh|\n",
    "|Rosalinda Sauro Sirianni Memorial Garden|community farm|Pittsburgh|\n",
    "|Second UP Garden|community farm|Pittsburgh|\n",
    "|Earl Brooks Community Garden|commuity farm|Pittsburgh|\n",
    "|Garfield Community Farm| community farm|Pittsburgh|"
   ]
  },
  {
   "cell_type": "markdown",
   "metadata": {},
   "source": [
    "Below shows a visual of the garden types that are promiently througout Allegheny county and provide to their community memebers."
   ]
  },
  {
   "cell_type": "code",
   "execution_count": 6,
   "metadata": {},
   "outputs": [
    {
     "ename": "SyntaxError",
     "evalue": "invalid syntax (<ipython-input-6-25b42edfb076>, line 5)",
     "output_type": "error",
     "traceback": [
      "\u001b[0;36m  File \u001b[0;32m\"<ipython-input-6-25b42edfb076>\"\u001b[0;36m, line \u001b[0;32m5\u001b[0m\n\u001b[0;31m    index_col = \"city\")\u001b[0m\n\u001b[0m    ^\u001b[0m\n\u001b[0;31mSyntaxError\u001b[0m\u001b[0;31m:\u001b[0m invalid syntax\n"
     ]
    }
   ],
   "source": [
    "import pandas as pd\n",
    "import numpy as np\n",
    "%mataplotlib inline.pyplot as plt\n",
    "garden_city = pd.read_csv(\"https://data.wprdc.org/datastore/dump/dbdfcb3e-8fa5-4468-9b05-f69562798f7\",\n",
    "                         index_col = \"city\")\n",
    "\n",
    "garden types = pd.read_csv(\"https://data.wprdc.org/datastore/dump/dbdfcb3e-8fa5-4468-9b05-f69562798f7\",\n",
    "                          index_col = \"Category\")\n",
    "garden_types.plot(kind = \"bar\")\n"
   ]
  },
  {
   "cell_type": "markdown",
   "metadata": {},
   "source": [
    "__Conclusion__"
   ]
  },
  {
   "cell_type": "markdown",
   "metadata": {},
   "source": [
    "Within Allegheny county, there are majority of community gardens used within communities for their needs, although school-gardens are prominent within the county as well, they are only used for needs of the school and is less likely to be distributed within the community since this garden is soely based on the need of students. Based on the information given majority of gardens were in the city of Downtown Pittsburgh area, East Liberty, Crafton,Squirrel hill and Fox Chapel.(2-3 to each zipcode specifically) Additonally, due to the data set there are some erros of community gardens listed as other which may have created inaccurace for residents who may need these addresses for their needs. "
   ]
  },
  {
   "cell_type": "code",
   "execution_count": null,
   "metadata": {},
   "outputs": [],
   "source": []
  }
 ],
 "metadata": {
  "kernelspec": {
   "display_name": "Python 3",
   "language": "python",
   "name": "python3"
  },
  "language_info": {
   "codemirror_mode": {
    "name": "ipython",
    "version": 3
   },
   "file_extension": ".py",
   "mimetype": "text/x-python",
   "name": "python",
   "nbconvert_exporter": "python",
   "pygments_lexer": "ipython3",
   "version": "3.8.3"
  }
 },
 "nbformat": 4,
 "nbformat_minor": 4
}

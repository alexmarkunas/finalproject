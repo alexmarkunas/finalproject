{
 "cells": [
  {
   "cell_type": "markdown",
   "metadata": {},
   "source": [
    "# Data and explanations"
   ]
  },
  {
   "cell_type": "markdown",
   "metadata": {},
   "source": [
    "*this is a test to see if the link i have to my data is working and I can accurately grab data from it*"
   ]
  },
  {
   "cell_type": "code",
   "execution_count": 4,
   "metadata": {},
   "outputs": [
    {
     "data": {
      "text/html": [
       "<div>\n",
       "<style scoped>\n",
       "    .dataframe tbody tr th:only-of-type {\n",
       "        vertical-align: middle;\n",
       "    }\n",
       "\n",
       "    .dataframe tbody tr th {\n",
       "        vertical-align: top;\n",
       "    }\n",
       "\n",
       "    .dataframe thead th {\n",
       "        text-align: right;\n",
       "    }\n",
       "</style>\n",
       "<table border=\"1\" class=\"dataframe\">\n",
       "  <thead>\n",
       "    <tr style=\"text-align: right;\">\n",
       "      <th></th>\n",
       "      <th>Walk Score</th>\n",
       "    </tr>\n",
       "    <tr>\n",
       "      <th>Census Tract</th>\n",
       "      <th></th>\n",
       "    </tr>\n",
       "  </thead>\n",
       "  <tbody>\n",
       "    <tr>\n",
       "      <th>10300</th>\n",
       "      <td>82</td>\n",
       "    </tr>\n",
       "    <tr>\n",
       "      <th>20100</th>\n",
       "      <td>100</td>\n",
       "    </tr>\n",
       "    <tr>\n",
       "      <th>20300</th>\n",
       "      <td>83</td>\n",
       "    </tr>\n",
       "    <tr>\n",
       "      <th>30500</th>\n",
       "      <td>77</td>\n",
       "    </tr>\n",
       "    <tr>\n",
       "      <th>40200</th>\n",
       "      <td>71</td>\n",
       "    </tr>\n",
       "  </tbody>\n",
       "</table>\n",
       "</div>"
      ],
      "text/plain": [
       "              Walk Score\n",
       "Census Tract            \n",
       "10300                 82\n",
       "20100                100\n",
       "20300                 83\n",
       "30500                 77\n",
       "40200                 71"
      ]
     },
     "execution_count": 4,
     "metadata": {},
     "output_type": "execute_result"
    }
   ],
   "source": [
    "import pandas as pd\n",
    "\n",
    "walk_scores = pd.read_csv(\"https://data.wprdc.org/datastore/dump/682b1df1-a63b-4413-9362-ba077af63baa\",\n",
    "                         index_col = \"Census Tract\",\n",
    "                         parse_dates = True)\n",
    "walk_scores.head(5)"
   ]
  },
  {
   "cell_type": "markdown",
   "metadata": {},
   "source": [
    "*this contains code that will allow me to seperate the data based on the census tract numbers and determine which neighborhoods have the highest walk scores*"
   ]
  },
  {
   "cell_type": "code",
   "execution_count": null,
   "metadata": {},
   "outputs": [],
   "source": [
    "import pandas as pd\n",
    "\n",
    "walk_scores = pd.read_csv(\"https://data.wprdc.org/datastore/dump/682b1df1-a63b-4413-9362-ba077af63baa\",\n",
    "                         index_col = \"Census Tract\")\n",
    "\n",
    "\n",
    "census_number = pd.read_csv(\"https://data.wprdc.org/datastore/dump/682b1df1-a63b-4413-9362-ba077af63baa\",\n",
    "                           index_col = \"Walk Score\")\n",
    "census_number[census_number.Census > 40000]"
   ]
  },
  {
   "cell_type": "markdown",
   "metadata": {},
   "source": [
    "*this will create a bar graph displaying all of the highest walkability scores and their respective census tracts*"
   ]
  },
  {
   "cell_type": "code",
   "execution_count": 1,
   "metadata": {},
   "outputs": [
    {
     "data": {
      "text/plain": [
       "<matplotlib.axes._subplots.AxesSubplot at 0x7f48971aca60>"
      ]
     },
     "execution_count": 1,
     "metadata": {},
     "output_type": "execute_result"
    },
    {
     "data": {
      "image/png": "[encoded data removed]",
      "text/plain": [
       "<Figure size 432x288 with 1 Axes>"
      ]
     },
     "metadata": {
      "needs_background": "light"
     },
     "output_type": "display_data"
    }
   ],
   "source": [
    "import pandas as pd\n",
    "import numpy as np\n",
    "%matplotlib inline\n",
    "import matplotlib.pyplot as plt\n",
    "\n",
    "walk_scores = pd.read_csv(\"https://data.wprdc.org/datastore/dump/682b1df1-a63b-4413-9362-ba077af63baa\",\n",
    "                         index_col = \"Census Tract\")\n",
    "\n",
    "census_number = pd.read_csv(\"https://data.wprdc.org/datastore/dump/682b1df1-a63b-4413-9362-ba077af63baa\",\n",
    "                           index_col = \"Walk Score\")\n",
    "census_number.plot(kind = \"bar\")"
   ]
  },
  {
   "cell_type": "markdown",
   "metadata": {},
   "source": [
    "# Conclusion"
   ]
  },
  {
   "cell_type": "markdown",
   "metadata": {},
   "source": [
    "based off of this data then it can be concluded that for my individual metric Downtown Pittsburgh is the best neighborhood.  This is based off of their high walkability score, meaning that people can get around on foot easily without the assistance of a car or public transportation.  This makes it a good neighborhood because it save people money and time by having things close together allowing people to walk, so they dont need to spend their money on transporation.  This also as a result will decrease the amount of pollution in this neighborhood because of low traffic.  These combining factors would make this a very pleasant neighborhood to live in.  It has also been scientifically shown that tight knit communities such as these that allow people to walk freely as they please can make a drastic difference in happiness: \" People who can walk to their favorite cafe, stroll to a neighborhood park, or saunter to a community center are more trusting and civically involved than people who live in car-centric places\" (Watson 1).\n",
    "\n",
    "-https://www.sierraclub.org/sierra/2014-6-november-december/green-life/walkable-neighborhoods-make-people-happier"
   ]
  },
  {
   "cell_type": "markdown",
   "metadata": {},
   "source": [
    "### Relevant Data"
   ]
  },
  {
   "cell_type": "markdown",
   "metadata": {},
   "source": [
    "_Top walkability scores_\n",
    "\n",
    "- downtown pittsburgh (94)\n",
    "- Central oakland (91)\n",
    "- friendship (91)\n",
    "- bloomfield (90)\n",
    "- North Oakland (90)"
   ]
  }
 ],
 "metadata": {
  "kernelspec": {
   "display_name": "Python 3",
   "language": "python",
   "name": "python3"
  },
  "language_info": {
   "codemirror_mode": {
    "name": "ipython",
    "version": 3
   },
   "file_extension": ".py",
   "mimetype": "text/x-python",
   "name": "python",
   "nbconvert_exporter": "python",
   "pygments_lexer": "ipython3",
   "version": "3.8.3"
  }
 },
 "nbformat": 4,
 "nbformat_minor": 4
}
